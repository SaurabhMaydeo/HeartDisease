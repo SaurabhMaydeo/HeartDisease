{
  "nbformat": 4,
  "nbformat_minor": 0,
  "metadata": {
    "colab": {
      "name": "Assignment.ipynb",
      "provenance": [],
      "collapsed_sections": [],
      "authorship_tag": "ABX9TyMp+aPWN6JDGu/M2ZoXfbSB",
      "include_colab_link": true
    },
    "kernelspec": {
      "name": "python3",
      "display_name": "Python 3"
    },
    "language_info": {
      "name": "python"
    }
  },
  "cells": [
    {
      "cell_type": "markdown",
      "metadata": {
        "id": "view-in-github",
        "colab_type": "text"
      },
      "source": [
        "<a href=\"https://colab.research.google.com/github/SaurabhMaydeo/HeartDisease/blob/main/Assignment.ipynb\" target=\"_parent\"><img src=\"https://colab.research.google.com/assets/colab-badge.svg\" alt=\"Open In Colab\"/></a>"
      ]
    },
    {
      "cell_type": "code",
      "metadata": {
        "id": "ArtGhIHeTkCn"
      },
      "source": [
        "import numpy as np # linear algebra\n",
        "import pandas as pd # data processing, CSV file I/O (e.g. pd.read_csv)\n",
        "import seaborn as sns\n",
        "%matplotlib inline\n",
        "import matplotlib\n",
        "import matplotlib.pyplot as plt\n",
        "from sklearn.model_selection import train_test_split\n",
        "from sklearn.ensemble import RandomForestClassifier\n",
        "from sklearn.model_selection import RandomizedSearchCV\n",
        "from sklearn.metrics import roc_curve, auc"
      ],
      "execution_count": null,
      "outputs": []
    },
    {
      "cell_type": "code",
      "metadata": {
        "colab": {
          "resources": {
            "http://localhost:8080/nbextensions/google.colab/files.js": {
              "data": "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",
              "ok": true,
              "headers": [
                [
                  "content-type",
                  "application/javascript"
                ]
              ],
              "status": 200,
              "status_text": ""
            }
          },
          "base_uri": "https://localhost:8080/",
          "height": 72
        },
        "id": "VAU_sL6KXuCT",
        "outputId": "14093d1c-f061-42db-be57-46a67672897c"
      },
      "source": [
        "from google.colab import files\n",
        "uploaded = files.upload()\n"
      ],
      "execution_count": null,
      "outputs": [
        {
          "output_type": "display_data",
          "data": {
            "text/html": [
              "\n",
              "     <input type=\"file\" id=\"files-f8b785f3-5112-4e48-b79f-bc73a6a82657\" name=\"files[]\" multiple disabled\n",
              "        style=\"border:none\" />\n",
              "     <output id=\"result-f8b785f3-5112-4e48-b79f-bc73a6a82657\">\n",
              "      Upload widget is only available when the cell has been executed in the\n",
              "      current browser session. Please rerun this cell to enable.\n",
              "      </output>\n",
              "      <script src=\"/nbextensions/google.colab/files.js\"></script> "
            ],
            "text/plain": [
              "<IPython.core.display.HTML object>"
            ]
          },
          "metadata": {
            "tags": []
          }
        },
        {
          "output_type": "stream",
          "text": [
            "Saving cleve.mod to cleve (21).mod\n"
          ],
          "name": "stdout"
        }
      ]
    },
    {
      "cell_type": "code",
      "metadata": {
        "id": "WTwlUqj0Yzfa"
      },
      "source": [
        "f = open('cleve.mod')\n",
        "content = f.readlines()[20:]\n",
        "content[0].split()\n",
        "lst = [c.split() for c in content]"
      ],
      "execution_count": null,
      "outputs": []
    },
    {
      "cell_type": "code",
      "metadata": {
        "id": "APRyI7nlZ364"
      },
      "source": [
        "df = pd.DataFrame(lst, columns =['age', 'sex', 'cp', 'trestbps', 'chol', 'fbs', 'restecg', 'thalach', 'exang', 'oldpeak', 'slope', 'ca', 'thal' , 'is_healthy' ,'class'])"
      ],
      "execution_count": null,
      "outputs": []
    },
    {
      "cell_type": "code",
      "metadata": {
        "colab": {
          "base_uri": "https://localhost:8080/",
          "height": 419
        },
        "id": "zqfiP83bejc_",
        "outputId": "6bd60b17-fdf8-49d8-edfe-0f4fd7646f56"
      },
      "source": [
        "df"
      ],
      "execution_count": null,
      "outputs": [
        {
          "output_type": "execute_result",
          "data": {
            "text/html": [
              "<div>\n",
              "<style scoped>\n",
              "    .dataframe tbody tr th:only-of-type {\n",
              "        vertical-align: middle;\n",
              "    }\n",
              "\n",
              "    .dataframe tbody tr th {\n",
              "        vertical-align: top;\n",
              "    }\n",
              "\n",
              "    .dataframe thead th {\n",
              "        text-align: right;\n",
              "    }\n",
              "</style>\n",
              "<table border=\"1\" class=\"dataframe\">\n",
              "  <thead>\n",
              "    <tr style=\"text-align: right;\">\n",
              "      <th></th>\n",
              "      <th>age</th>\n",
              "      <th>sex</th>\n",
              "      <th>cp</th>\n",
              "      <th>trestbps</th>\n",
              "      <th>chol</th>\n",
              "      <th>fbs</th>\n",
              "      <th>restecg</th>\n",
              "      <th>thalach</th>\n",
              "      <th>exang</th>\n",
              "      <th>oldpeak</th>\n",
              "      <th>slope</th>\n",
              "      <th>ca</th>\n",
              "      <th>thal</th>\n",
              "      <th>is_healthy</th>\n",
              "      <th>class</th>\n",
              "    </tr>\n",
              "  </thead>\n",
              "  <tbody>\n",
              "    <tr>\n",
              "      <th>0</th>\n",
              "      <td>63.0</td>\n",
              "      <td>male</td>\n",
              "      <td>angina</td>\n",
              "      <td>145.0</td>\n",
              "      <td>233.0</td>\n",
              "      <td>true</td>\n",
              "      <td>hyp</td>\n",
              "      <td>150.0</td>\n",
              "      <td>fal</td>\n",
              "      <td>2.3</td>\n",
              "      <td>down</td>\n",
              "      <td>0.0</td>\n",
              "      <td>fix</td>\n",
              "      <td>buff</td>\n",
              "      <td>H</td>\n",
              "    </tr>\n",
              "    <tr>\n",
              "      <th>1</th>\n",
              "      <td>67.0</td>\n",
              "      <td>male</td>\n",
              "      <td>asympt</td>\n",
              "      <td>160.0</td>\n",
              "      <td>286.0</td>\n",
              "      <td>fal</td>\n",
              "      <td>hyp</td>\n",
              "      <td>108.0</td>\n",
              "      <td>true</td>\n",
              "      <td>1.5</td>\n",
              "      <td>flat</td>\n",
              "      <td>3.0</td>\n",
              "      <td>norm</td>\n",
              "      <td>sick</td>\n",
              "      <td>S2</td>\n",
              "    </tr>\n",
              "    <tr>\n",
              "      <th>2</th>\n",
              "      <td>67.0</td>\n",
              "      <td>male</td>\n",
              "      <td>asympt</td>\n",
              "      <td>120.0</td>\n",
              "      <td>229.0</td>\n",
              "      <td>fal</td>\n",
              "      <td>hyp</td>\n",
              "      <td>129.0</td>\n",
              "      <td>true</td>\n",
              "      <td>2.6</td>\n",
              "      <td>flat</td>\n",
              "      <td>2.0</td>\n",
              "      <td>rev</td>\n",
              "      <td>sick</td>\n",
              "      <td>S1</td>\n",
              "    </tr>\n",
              "    <tr>\n",
              "      <th>3</th>\n",
              "      <td>37.0</td>\n",
              "      <td>male</td>\n",
              "      <td>notang</td>\n",
              "      <td>130.0</td>\n",
              "      <td>250.0</td>\n",
              "      <td>fal</td>\n",
              "      <td>norm</td>\n",
              "      <td>187.0</td>\n",
              "      <td>fal</td>\n",
              "      <td>3.5</td>\n",
              "      <td>down</td>\n",
              "      <td>0.0</td>\n",
              "      <td>norm</td>\n",
              "      <td>buff</td>\n",
              "      <td>H</td>\n",
              "    </tr>\n",
              "    <tr>\n",
              "      <th>4</th>\n",
              "      <td>41.0</td>\n",
              "      <td>fem</td>\n",
              "      <td>abnang</td>\n",
              "      <td>130.0</td>\n",
              "      <td>204.0</td>\n",
              "      <td>fal</td>\n",
              "      <td>hyp</td>\n",
              "      <td>172.0</td>\n",
              "      <td>fal</td>\n",
              "      <td>1.4</td>\n",
              "      <td>up</td>\n",
              "      <td>0.0</td>\n",
              "      <td>norm</td>\n",
              "      <td>buff</td>\n",
              "      <td>H</td>\n",
              "    </tr>\n",
              "    <tr>\n",
              "      <th>...</th>\n",
              "      <td>...</td>\n",
              "      <td>...</td>\n",
              "      <td>...</td>\n",
              "      <td>...</td>\n",
              "      <td>...</td>\n",
              "      <td>...</td>\n",
              "      <td>...</td>\n",
              "      <td>...</td>\n",
              "      <td>...</td>\n",
              "      <td>...</td>\n",
              "      <td>...</td>\n",
              "      <td>...</td>\n",
              "      <td>...</td>\n",
              "      <td>...</td>\n",
              "      <td>...</td>\n",
              "    </tr>\n",
              "    <tr>\n",
              "      <th>299</th>\n",
              "      <td>57.0</td>\n",
              "      <td>male</td>\n",
              "      <td>asympt</td>\n",
              "      <td>132.0</td>\n",
              "      <td>207.0</td>\n",
              "      <td>fal</td>\n",
              "      <td>norm</td>\n",
              "      <td>168.0</td>\n",
              "      <td>true</td>\n",
              "      <td>0.0</td>\n",
              "      <td>up</td>\n",
              "      <td>0.0</td>\n",
              "      <td>rev</td>\n",
              "      <td>buff</td>\n",
              "      <td>H</td>\n",
              "    </tr>\n",
              "    <tr>\n",
              "      <th>300</th>\n",
              "      <td>49.0</td>\n",
              "      <td>male</td>\n",
              "      <td>notang</td>\n",
              "      <td>118.0</td>\n",
              "      <td>149.0</td>\n",
              "      <td>fal</td>\n",
              "      <td>hyp</td>\n",
              "      <td>126.0</td>\n",
              "      <td>fal</td>\n",
              "      <td>0.8</td>\n",
              "      <td>up</td>\n",
              "      <td>3.0</td>\n",
              "      <td>norm</td>\n",
              "      <td>sick</td>\n",
              "      <td>S1</td>\n",
              "    </tr>\n",
              "    <tr>\n",
              "      <th>301</th>\n",
              "      <td>74.0</td>\n",
              "      <td>fem</td>\n",
              "      <td>abnang</td>\n",
              "      <td>120.0</td>\n",
              "      <td>269.0</td>\n",
              "      <td>fal</td>\n",
              "      <td>hyp</td>\n",
              "      <td>121.0</td>\n",
              "      <td>true</td>\n",
              "      <td>0.2</td>\n",
              "      <td>up</td>\n",
              "      <td>1.0</td>\n",
              "      <td>norm</td>\n",
              "      <td>buff</td>\n",
              "      <td>H</td>\n",
              "    </tr>\n",
              "    <tr>\n",
              "      <th>302</th>\n",
              "      <td>54.0</td>\n",
              "      <td>fem</td>\n",
              "      <td>notang</td>\n",
              "      <td>160.0</td>\n",
              "      <td>201.0</td>\n",
              "      <td>fal</td>\n",
              "      <td>norm</td>\n",
              "      <td>163.0</td>\n",
              "      <td>fal</td>\n",
              "      <td>0.0</td>\n",
              "      <td>up</td>\n",
              "      <td>1.0</td>\n",
              "      <td>norm</td>\n",
              "      <td>buff</td>\n",
              "      <td>H</td>\n",
              "    </tr>\n",
              "    <tr>\n",
              "      <th>303</th>\n",
              "      <td>None</td>\n",
              "      <td>None</td>\n",
              "      <td>None</td>\n",
              "      <td>None</td>\n",
              "      <td>None</td>\n",
              "      <td>None</td>\n",
              "      <td>None</td>\n",
              "      <td>None</td>\n",
              "      <td>None</td>\n",
              "      <td>None</td>\n",
              "      <td>None</td>\n",
              "      <td>None</td>\n",
              "      <td>None</td>\n",
              "      <td>None</td>\n",
              "      <td>None</td>\n",
              "    </tr>\n",
              "  </tbody>\n",
              "</table>\n",
              "<p>304 rows × 15 columns</p>\n",
              "</div>"
            ],
            "text/plain": [
              "      age   sex      cp trestbps   chol  ... slope    ca  thal is_healthy class\n",
              "0    63.0  male  angina    145.0  233.0  ...  down   0.0   fix       buff     H\n",
              "1    67.0  male  asympt    160.0  286.0  ...  flat   3.0  norm       sick    S2\n",
              "2    67.0  male  asympt    120.0  229.0  ...  flat   2.0   rev       sick    S1\n",
              "3    37.0  male  notang    130.0  250.0  ...  down   0.0  norm       buff     H\n",
              "4    41.0   fem  abnang    130.0  204.0  ...    up   0.0  norm       buff     H\n",
              "..    ...   ...     ...      ...    ...  ...   ...   ...   ...        ...   ...\n",
              "299  57.0  male  asympt    132.0  207.0  ...    up   0.0   rev       buff     H\n",
              "300  49.0  male  notang    118.0  149.0  ...    up   3.0  norm       sick    S1\n",
              "301  74.0   fem  abnang    120.0  269.0  ...    up   1.0  norm       buff     H\n",
              "302  54.0   fem  notang    160.0  201.0  ...    up   1.0  norm       buff     H\n",
              "303  None  None    None     None   None  ...  None  None  None       None  None\n",
              "\n",
              "[304 rows x 15 columns]"
            ]
          },
          "metadata": {
            "tags": []
          },
          "execution_count": 5
        }
      ]
    },
    {
      "cell_type": "code",
      "metadata": {
        "id": "P_zd8jNYyzrU"
      },
      "source": [
        "df = df.drop(df.index[-1])"
      ],
      "execution_count": null,
      "outputs": []
    },
    {
      "cell_type": "markdown",
      "metadata": {
        "id": "GKEC7tJckMf3"
      },
      "source": [
        "# Exploratory Data Analysis & Preprocessing\n",
        "\n",
        "---\n",
        "\n"
      ]
    },
    {
      "cell_type": "code",
      "metadata": {
        "colab": {
          "base_uri": "https://localhost:8080/"
        },
        "id": "mBk4HayMjN_u",
        "outputId": "1687a0ad-257b-4daa-8c22-809b483aad87"
      },
      "source": [
        "df.info()"
      ],
      "execution_count": null,
      "outputs": [
        {
          "output_type": "stream",
          "text": [
            "<class 'pandas.core.frame.DataFrame'>\n",
            "Int64Index: 303 entries, 0 to 302\n",
            "Data columns (total 15 columns):\n",
            " #   Column      Non-Null Count  Dtype \n",
            "---  ------      --------------  ----- \n",
            " 0   age         303 non-null    object\n",
            " 1   sex         303 non-null    object\n",
            " 2   cp          303 non-null    object\n",
            " 3   trestbps    303 non-null    object\n",
            " 4   chol        303 non-null    object\n",
            " 5   fbs         303 non-null    object\n",
            " 6   restecg     303 non-null    object\n",
            " 7   thalach     303 non-null    object\n",
            " 8   exang       303 non-null    object\n",
            " 9   oldpeak     303 non-null    object\n",
            " 10  slope       303 non-null    object\n",
            " 11  ca          303 non-null    object\n",
            " 12  thal        303 non-null    object\n",
            " 13  is_healthy  303 non-null    object\n",
            " 14  class       303 non-null    object\n",
            "dtypes: object(15)\n",
            "memory usage: 37.9+ KB\n"
          ],
          "name": "stdout"
        }
      ]
    },
    {
      "cell_type": "code",
      "metadata": {
        "colab": {
          "base_uri": "https://localhost:8080/"
        },
        "id": "2t_hfK6_naxp",
        "outputId": "44870a5f-d4ae-41d1-c41e-ab1a1182794e"
      },
      "source": [
        "df['ca'].unique()"
      ],
      "execution_count": null,
      "outputs": [
        {
          "output_type": "execute_result",
          "data": {
            "text/plain": [
              "array(['0.0', '3.0', '2.0', '1.0', '?'], dtype=object)"
            ]
          },
          "metadata": {
            "tags": []
          },
          "execution_count": 8
        }
      ]
    },
    {
      "cell_type": "code",
      "metadata": {
        "colab": {
          "base_uri": "https://localhost:8080/"
        },
        "id": "qhXvGJu6qbFz",
        "outputId": "e32ff6b8-bc08-4673-bb5d-fd82da2f57d1"
      },
      "source": [
        "indices = df.index[df['ca'] == '?'].tolist()\n",
        "indices"
      ],
      "execution_count": null,
      "outputs": [
        {
          "output_type": "execute_result",
          "data": {
            "text/plain": [
              "[143, 157, 165, 250, 262]"
            ]
          },
          "metadata": {
            "tags": []
          },
          "execution_count": 9
        }
      ]
    },
    {
      "cell_type": "code",
      "metadata": {
        "id": "yMOH7udhnj1r"
      },
      "source": [
        "df[['age']] = df[['age']].apply(pd.to_numeric)\n",
        "\n",
        "df[['trestbps']] = df[['trestbps']].apply(pd.to_numeric)\n",
        "\n",
        "df[['chol']] = df[['chol']].apply(pd.to_numeric)\n",
        "\n",
        "df[['thalach']] = df[['thalach']].apply(pd.to_numeric)\n",
        "\n",
        "df[['oldpeak']] = df[['oldpeak']].apply(pd.to_numeric)\n",
        "\n",
        "#df = df.replace('?', None)\n",
        "df = df.replace(to_replace='?', value=np.nan)\n",
        "df[['ca']] = df[['ca']].apply(pd.to_numeric)"
      ],
      "execution_count": null,
      "outputs": []
    },
    {
      "cell_type": "code",
      "metadata": {
        "colab": {
          "base_uri": "https://localhost:8080/",
          "height": 204
        },
        "id": "Jgr0jSdTFr1g",
        "outputId": "ada44864-ab11-49c1-8302-b6e378e6aea0"
      },
      "source": [
        "df.iloc[indices]\n"
      ],
      "execution_count": null,
      "outputs": [
        {
          "output_type": "execute_result",
          "data": {
            "text/html": [
              "<div>\n",
              "<style scoped>\n",
              "    .dataframe tbody tr th:only-of-type {\n",
              "        vertical-align: middle;\n",
              "    }\n",
              "\n",
              "    .dataframe tbody tr th {\n",
              "        vertical-align: top;\n",
              "    }\n",
              "\n",
              "    .dataframe thead th {\n",
              "        text-align: right;\n",
              "    }\n",
              "</style>\n",
              "<table border=\"1\" class=\"dataframe\">\n",
              "  <thead>\n",
              "    <tr style=\"text-align: right;\">\n",
              "      <th></th>\n",
              "      <th>age</th>\n",
              "      <th>sex</th>\n",
              "      <th>cp</th>\n",
              "      <th>trestbps</th>\n",
              "      <th>chol</th>\n",
              "      <th>fbs</th>\n",
              "      <th>restecg</th>\n",
              "      <th>thalach</th>\n",
              "      <th>exang</th>\n",
              "      <th>oldpeak</th>\n",
              "      <th>slope</th>\n",
              "      <th>ca</th>\n",
              "      <th>thal</th>\n",
              "      <th>is_healthy</th>\n",
              "      <th>class</th>\n",
              "    </tr>\n",
              "  </thead>\n",
              "  <tbody>\n",
              "    <tr>\n",
              "      <th>143</th>\n",
              "      <td>52.0</td>\n",
              "      <td>male</td>\n",
              "      <td>notang</td>\n",
              "      <td>138.0</td>\n",
              "      <td>223.0</td>\n",
              "      <td>fal</td>\n",
              "      <td>norm</td>\n",
              "      <td>169.0</td>\n",
              "      <td>fal</td>\n",
              "      <td>0.0</td>\n",
              "      <td>up</td>\n",
              "      <td>NaN</td>\n",
              "      <td>norm</td>\n",
              "      <td>buff</td>\n",
              "      <td>H</td>\n",
              "    </tr>\n",
              "    <tr>\n",
              "      <th>157</th>\n",
              "      <td>38.0</td>\n",
              "      <td>male</td>\n",
              "      <td>notang</td>\n",
              "      <td>138.0</td>\n",
              "      <td>175.0</td>\n",
              "      <td>fal</td>\n",
              "      <td>norm</td>\n",
              "      <td>173.0</td>\n",
              "      <td>fal</td>\n",
              "      <td>0.0</td>\n",
              "      <td>up</td>\n",
              "      <td>NaN</td>\n",
              "      <td>norm</td>\n",
              "      <td>buff</td>\n",
              "      <td>H</td>\n",
              "    </tr>\n",
              "    <tr>\n",
              "      <th>165</th>\n",
              "      <td>43.0</td>\n",
              "      <td>male</td>\n",
              "      <td>asympt</td>\n",
              "      <td>132.0</td>\n",
              "      <td>247.0</td>\n",
              "      <td>true</td>\n",
              "      <td>hyp</td>\n",
              "      <td>143.0</td>\n",
              "      <td>true</td>\n",
              "      <td>0.1</td>\n",
              "      <td>flat</td>\n",
              "      <td>NaN</td>\n",
              "      <td>rev</td>\n",
              "      <td>sick</td>\n",
              "      <td>S1</td>\n",
              "    </tr>\n",
              "    <tr>\n",
              "      <th>250</th>\n",
              "      <td>58.0</td>\n",
              "      <td>male</td>\n",
              "      <td>abnang</td>\n",
              "      <td>125.0</td>\n",
              "      <td>220.0</td>\n",
              "      <td>fal</td>\n",
              "      <td>norm</td>\n",
              "      <td>144.0</td>\n",
              "      <td>fal</td>\n",
              "      <td>0.4</td>\n",
              "      <td>flat</td>\n",
              "      <td>NaN</td>\n",
              "      <td>rev</td>\n",
              "      <td>buff</td>\n",
              "      <td>H</td>\n",
              "    </tr>\n",
              "    <tr>\n",
              "      <th>262</th>\n",
              "      <td>38.0</td>\n",
              "      <td>male</td>\n",
              "      <td>notang</td>\n",
              "      <td>138.0</td>\n",
              "      <td>175.0</td>\n",
              "      <td>fal</td>\n",
              "      <td>norm</td>\n",
              "      <td>173.0</td>\n",
              "      <td>fal</td>\n",
              "      <td>0.0</td>\n",
              "      <td>up</td>\n",
              "      <td>NaN</td>\n",
              "      <td>norm</td>\n",
              "      <td>buff</td>\n",
              "      <td>H</td>\n",
              "    </tr>\n",
              "  </tbody>\n",
              "</table>\n",
              "</div>"
            ],
            "text/plain": [
              "      age   sex      cp  trestbps   chol  ... slope  ca  thal is_healthy  class\n",
              "143  52.0  male  notang     138.0  223.0  ...    up NaN  norm       buff      H\n",
              "157  38.0  male  notang     138.0  175.0  ...    up NaN  norm       buff      H\n",
              "165  43.0  male  asympt     132.0  247.0  ...  flat NaN   rev       sick     S1\n",
              "250  58.0  male  abnang     125.0  220.0  ...  flat NaN   rev       buff      H\n",
              "262  38.0  male  notang     138.0  175.0  ...    up NaN  norm       buff      H\n",
              "\n",
              "[5 rows x 15 columns]"
            ]
          },
          "metadata": {
            "tags": []
          },
          "execution_count": 11
        }
      ]
    },
    {
      "cell_type": "code",
      "metadata": {
        "colab": {
          "base_uri": "https://localhost:8080/"
        },
        "id": "cAo_R7T_n-qq",
        "outputId": "27935ff2-14bb-41fe-e079-d5032ab4d695"
      },
      "source": [
        "df.info()"
      ],
      "execution_count": null,
      "outputs": [
        {
          "output_type": "stream",
          "text": [
            "<class 'pandas.core.frame.DataFrame'>\n",
            "Int64Index: 303 entries, 0 to 302\n",
            "Data columns (total 15 columns):\n",
            " #   Column      Non-Null Count  Dtype  \n",
            "---  ------      --------------  -----  \n",
            " 0   age         303 non-null    float64\n",
            " 1   sex         303 non-null    object \n",
            " 2   cp          303 non-null    object \n",
            " 3   trestbps    303 non-null    float64\n",
            " 4   chol        303 non-null    float64\n",
            " 5   fbs         303 non-null    object \n",
            " 6   restecg     303 non-null    object \n",
            " 7   thalach     303 non-null    float64\n",
            " 8   exang       303 non-null    object \n",
            " 9   oldpeak     303 non-null    float64\n",
            " 10  slope       303 non-null    object \n",
            " 11  ca          298 non-null    float64\n",
            " 12  thal        301 non-null    object \n",
            " 13  is_healthy  303 non-null    object \n",
            " 14  class       303 non-null    object \n",
            "dtypes: float64(6), object(9)\n",
            "memory usage: 37.9+ KB\n"
          ],
          "name": "stdout"
        }
      ]
    },
    {
      "cell_type": "code",
      "metadata": {
        "colab": {
          "base_uri": "https://localhost:8080/"
        },
        "id": "WJ8gkgZpE9K0",
        "outputId": "2f650f77-14aa-46dc-955c-375f7b3f052c"
      },
      "source": [
        "df.isna().any()"
      ],
      "execution_count": null,
      "outputs": [
        {
          "output_type": "execute_result",
          "data": {
            "text/plain": [
              "age           False\n",
              "sex           False\n",
              "cp            False\n",
              "trestbps      False\n",
              "chol          False\n",
              "fbs           False\n",
              "restecg       False\n",
              "thalach       False\n",
              "exang         False\n",
              "oldpeak       False\n",
              "slope         False\n",
              "ca             True\n",
              "thal           True\n",
              "is_healthy    False\n",
              "class         False\n",
              "dtype: bool"
            ]
          },
          "metadata": {
            "tags": []
          },
          "execution_count": 13
        }
      ]
    },
    {
      "cell_type": "code",
      "metadata": {
        "id": "nfUU4nROIkI8"
      },
      "source": [
        "df = df.dropna()\n"
      ],
      "execution_count": null,
      "outputs": []
    },
    {
      "cell_type": "code",
      "metadata": {
        "colab": {
          "base_uri": "https://localhost:8080/",
          "height": 235
        },
        "id": "zioEJsOzjUse",
        "outputId": "925bc73c-e0aa-424d-b5e7-7eb88cf0c022"
      },
      "source": [
        "pd.set_option('float_format', '{:f}'.format)\n",
        "df.describe().T"
      ],
      "execution_count": null,
      "outputs": [
        {
          "output_type": "execute_result",
          "data": {
            "text/html": [
              "<div>\n",
              "<style scoped>\n",
              "    .dataframe tbody tr th:only-of-type {\n",
              "        vertical-align: middle;\n",
              "    }\n",
              "\n",
              "    .dataframe tbody tr th {\n",
              "        vertical-align: top;\n",
              "    }\n",
              "\n",
              "    .dataframe thead th {\n",
              "        text-align: right;\n",
              "    }\n",
              "</style>\n",
              "<table border=\"1\" class=\"dataframe\">\n",
              "  <thead>\n",
              "    <tr style=\"text-align: right;\">\n",
              "      <th></th>\n",
              "      <th>count</th>\n",
              "      <th>mean</th>\n",
              "      <th>std</th>\n",
              "      <th>min</th>\n",
              "      <th>25%</th>\n",
              "      <th>50%</th>\n",
              "      <th>75%</th>\n",
              "      <th>max</th>\n",
              "    </tr>\n",
              "  </thead>\n",
              "  <tbody>\n",
              "    <tr>\n",
              "      <th>age</th>\n",
              "      <td>296.000000</td>\n",
              "      <td>54.523649</td>\n",
              "      <td>9.059471</td>\n",
              "      <td>29.000000</td>\n",
              "      <td>48.000000</td>\n",
              "      <td>56.000000</td>\n",
              "      <td>61.000000</td>\n",
              "      <td>77.000000</td>\n",
              "    </tr>\n",
              "    <tr>\n",
              "      <th>trestbps</th>\n",
              "      <td>296.000000</td>\n",
              "      <td>131.604730</td>\n",
              "      <td>17.726620</td>\n",
              "      <td>94.000000</td>\n",
              "      <td>120.000000</td>\n",
              "      <td>130.000000</td>\n",
              "      <td>140.000000</td>\n",
              "      <td>200.000000</td>\n",
              "    </tr>\n",
              "    <tr>\n",
              "      <th>chol</th>\n",
              "      <td>296.000000</td>\n",
              "      <td>247.155405</td>\n",
              "      <td>51.977011</td>\n",
              "      <td>126.000000</td>\n",
              "      <td>211.000000</td>\n",
              "      <td>242.500000</td>\n",
              "      <td>275.250000</td>\n",
              "      <td>564.000000</td>\n",
              "    </tr>\n",
              "    <tr>\n",
              "      <th>thalach</th>\n",
              "      <td>296.000000</td>\n",
              "      <td>149.560811</td>\n",
              "      <td>22.970792</td>\n",
              "      <td>71.000000</td>\n",
              "      <td>133.000000</td>\n",
              "      <td>152.500000</td>\n",
              "      <td>166.000000</td>\n",
              "      <td>202.000000</td>\n",
              "    </tr>\n",
              "    <tr>\n",
              "      <th>oldpeak</th>\n",
              "      <td>296.000000</td>\n",
              "      <td>1.059122</td>\n",
              "      <td>1.166474</td>\n",
              "      <td>0.000000</td>\n",
              "      <td>0.000000</td>\n",
              "      <td>0.800000</td>\n",
              "      <td>1.650000</td>\n",
              "      <td>6.200000</td>\n",
              "    </tr>\n",
              "    <tr>\n",
              "      <th>ca</th>\n",
              "      <td>296.000000</td>\n",
              "      <td>0.679054</td>\n",
              "      <td>0.939726</td>\n",
              "      <td>0.000000</td>\n",
              "      <td>0.000000</td>\n",
              "      <td>0.000000</td>\n",
              "      <td>1.000000</td>\n",
              "      <td>3.000000</td>\n",
              "    </tr>\n",
              "  </tbody>\n",
              "</table>\n",
              "</div>"
            ],
            "text/plain": [
              "              count       mean       std  ...        50%        75%        max\n",
              "age      296.000000  54.523649  9.059471  ...  56.000000  61.000000  77.000000\n",
              "trestbps 296.000000 131.604730 17.726620  ... 130.000000 140.000000 200.000000\n",
              "chol     296.000000 247.155405 51.977011  ... 242.500000 275.250000 564.000000\n",
              "thalach  296.000000 149.560811 22.970792  ... 152.500000 166.000000 202.000000\n",
              "oldpeak  296.000000   1.059122  1.166474  ...   0.800000   1.650000   6.200000\n",
              "ca       296.000000   0.679054  0.939726  ...   0.000000   1.000000   3.000000\n",
              "\n",
              "[6 rows x 8 columns]"
            ]
          },
          "metadata": {
            "tags": []
          },
          "execution_count": 15
        }
      ]
    },
    {
      "cell_type": "code",
      "metadata": {
        "colab": {
          "base_uri": "https://localhost:8080/",
          "height": 285
        },
        "id": "TncbQwdZzFIH",
        "outputId": "a23f5a4f-c835-43ec-918b-29c2c4a5f198"
      },
      "source": [
        "df['class'].value_counts().plot(kind = 'bar')\n"
      ],
      "execution_count": null,
      "outputs": [
        {
          "output_type": "execute_result",
          "data": {
            "text/plain": [
              "<matplotlib.axes._subplots.AxesSubplot at 0x7f1035b44fd0>"
            ]
          },
          "metadata": {
            "tags": []
          },
          "execution_count": 16
        },
        {
          "output_type": "display_data",
          "data": {
            "image/png": "[encoded data removed]",
            "text/plain": [
              "<Figure size 432x288 with 1 Axes>"
            ]
          },
          "metadata": {
            "tags": [],
            "needs_background": "light"
          }
        }
      ]
    },
    {
      "cell_type": "code",
      "metadata": {
        "colab": {
          "base_uri": "https://localhost:8080/"
        },
        "id": "2ZC_dW-JY6ip",
        "outputId": "6160417b-b27b-48ef-a77a-d62a743e45b3"
      },
      "source": [
        "df.columns"
      ],
      "execution_count": null,
      "outputs": [
        {
          "output_type": "execute_result",
          "data": {
            "text/plain": [
              "Index(['age', 'sex', 'cp', 'trestbps', 'chol', 'fbs', 'restecg', 'thalach',\n",
              "       'exang', 'oldpeak', 'slope', 'ca', 'thal', 'is_healthy', 'class'],\n",
              "      dtype='object')"
            ]
          },
          "metadata": {
            "tags": []
          },
          "execution_count": 17
        }
      ]
    },
    {
      "cell_type": "code",
      "metadata": {
        "id": "93RGDsFwcynj"
      },
      "source": [
        "\n",
        "df[\"sex\"].replace({\"male\": 1, \"fem\": 0}, inplace=True)\n",
        "df[\"fbs\"].replace({\"true\": 1, \"fal\": 0}, inplace=True)\n",
        "df[\"exang\"].replace({\"true\": 1, \"fal\": 0}, inplace=True)\n",
        "\n"
      ],
      "execution_count": null,
      "outputs": []
    },
    {
      "cell_type": "code",
      "metadata": {
        "colab": {
          "base_uri": "https://localhost:8080/",
          "height": 419
        },
        "id": "MBIqfJHyfUEj",
        "outputId": "a5574eb7-7e56-4358-9f87-f24fac297fb1"
      },
      "source": [
        "df"
      ],
      "execution_count": null,
      "outputs": [
        {
          "output_type": "execute_result",
          "data": {
            "text/html": [
              "<div>\n",
              "<style scoped>\n",
              "    .dataframe tbody tr th:only-of-type {\n",
              "        vertical-align: middle;\n",
              "    }\n",
              "\n",
              "    .dataframe tbody tr th {\n",
              "        vertical-align: top;\n",
              "    }\n",
              "\n",
              "    .dataframe thead th {\n",
              "        text-align: right;\n",
              "    }\n",
              "</style>\n",
              "<table border=\"1\" class=\"dataframe\">\n",
              "  <thead>\n",
              "    <tr style=\"text-align: right;\">\n",
              "      <th></th>\n",
              "      <th>age</th>\n",
              "      <th>sex</th>\n",
              "      <th>cp</th>\n",
              "      <th>trestbps</th>\n",
              "      <th>chol</th>\n",
              "      <th>fbs</th>\n",
              "      <th>restecg</th>\n",
              "      <th>thalach</th>\n",
              "      <th>exang</th>\n",
              "      <th>oldpeak</th>\n",
              "      <th>slope</th>\n",
              "      <th>ca</th>\n",
              "      <th>thal</th>\n",
              "      <th>is_healthy</th>\n",
              "      <th>class</th>\n",
              "    </tr>\n",
              "  </thead>\n",
              "  <tbody>\n",
              "    <tr>\n",
              "      <th>0</th>\n",
              "      <td>63.000000</td>\n",
              "      <td>1</td>\n",
              "      <td>angina</td>\n",
              "      <td>145.000000</td>\n",
              "      <td>233.000000</td>\n",
              "      <td>1</td>\n",
              "      <td>hyp</td>\n",
              "      <td>150.000000</td>\n",
              "      <td>0</td>\n",
              "      <td>2.300000</td>\n",
              "      <td>down</td>\n",
              "      <td>0.000000</td>\n",
              "      <td>fix</td>\n",
              "      <td>buff</td>\n",
              "      <td>H</td>\n",
              "    </tr>\n",
              "    <tr>\n",
              "      <th>1</th>\n",
              "      <td>67.000000</td>\n",
              "      <td>1</td>\n",
              "      <td>asympt</td>\n",
              "      <td>160.000000</td>\n",
              "      <td>286.000000</td>\n",
              "      <td>0</td>\n",
              "      <td>hyp</td>\n",
              "      <td>108.000000</td>\n",
              "      <td>1</td>\n",
              "      <td>1.500000</td>\n",
              "      <td>flat</td>\n",
              "      <td>3.000000</td>\n",
              "      <td>norm</td>\n",
              "      <td>sick</td>\n",
              "      <td>S2</td>\n",
              "    </tr>\n",
              "    <tr>\n",
              "      <th>2</th>\n",
              "      <td>67.000000</td>\n",
              "      <td>1</td>\n",
              "      <td>asympt</td>\n",
              "      <td>120.000000</td>\n",
              "      <td>229.000000</td>\n",
              "      <td>0</td>\n",
              "      <td>hyp</td>\n",
              "      <td>129.000000</td>\n",
              "      <td>1</td>\n",
              "      <td>2.600000</td>\n",
              "      <td>flat</td>\n",
              "      <td>2.000000</td>\n",
              "      <td>rev</td>\n",
              "      <td>sick</td>\n",
              "      <td>S1</td>\n",
              "    </tr>\n",
              "    <tr>\n",
              "      <th>3</th>\n",
              "      <td>37.000000</td>\n",
              "      <td>1</td>\n",
              "      <td>notang</td>\n",
              "      <td>130.000000</td>\n",
              "      <td>250.000000</td>\n",
              "      <td>0</td>\n",
              "      <td>norm</td>\n",
              "      <td>187.000000</td>\n",
              "      <td>0</td>\n",
              "      <td>3.500000</td>\n",
              "      <td>down</td>\n",
              "      <td>0.000000</td>\n",
              "      <td>norm</td>\n",
              "      <td>buff</td>\n",
              "      <td>H</td>\n",
              "    </tr>\n",
              "    <tr>\n",
              "      <th>4</th>\n",
              "      <td>41.000000</td>\n",
              "      <td>0</td>\n",
              "      <td>abnang</td>\n",
              "      <td>130.000000</td>\n",
              "      <td>204.000000</td>\n",
              "      <td>0</td>\n",
              "      <td>hyp</td>\n",
              "      <td>172.000000</td>\n",
              "      <td>0</td>\n",
              "      <td>1.400000</td>\n",
              "      <td>up</td>\n",
              "      <td>0.000000</td>\n",
              "      <td>norm</td>\n",
              "      <td>buff</td>\n",
              "      <td>H</td>\n",
              "    </tr>\n",
              "    <tr>\n",
              "      <th>...</th>\n",
              "      <td>...</td>\n",
              "      <td>...</td>\n",
              "      <td>...</td>\n",
              "      <td>...</td>\n",
              "      <td>...</td>\n",
              "      <td>...</td>\n",
              "      <td>...</td>\n",
              "      <td>...</td>\n",
              "      <td>...</td>\n",
              "      <td>...</td>\n",
              "      <td>...</td>\n",
              "      <td>...</td>\n",
              "      <td>...</td>\n",
              "      <td>...</td>\n",
              "      <td>...</td>\n",
              "    </tr>\n",
              "    <tr>\n",
              "      <th>298</th>\n",
              "      <td>48.000000</td>\n",
              "      <td>1</td>\n",
              "      <td>notang</td>\n",
              "      <td>124.000000</td>\n",
              "      <td>255.000000</td>\n",
              "      <td>1</td>\n",
              "      <td>norm</td>\n",
              "      <td>175.000000</td>\n",
              "      <td>0</td>\n",
              "      <td>0.000000</td>\n",
              "      <td>up</td>\n",
              "      <td>2.000000</td>\n",
              "      <td>norm</td>\n",
              "      <td>buff</td>\n",
              "      <td>H</td>\n",
              "    </tr>\n",
              "    <tr>\n",
              "      <th>299</th>\n",
              "      <td>57.000000</td>\n",
              "      <td>1</td>\n",
              "      <td>asympt</td>\n",
              "      <td>132.000000</td>\n",
              "      <td>207.000000</td>\n",
              "      <td>0</td>\n",
              "      <td>norm</td>\n",
              "      <td>168.000000</td>\n",
              "      <td>1</td>\n",
              "      <td>0.000000</td>\n",
              "      <td>up</td>\n",
              "      <td>0.000000</td>\n",
              "      <td>rev</td>\n",
              "      <td>buff</td>\n",
              "      <td>H</td>\n",
              "    </tr>\n",
              "    <tr>\n",
              "      <th>300</th>\n",
              "      <td>49.000000</td>\n",
              "      <td>1</td>\n",
              "      <td>notang</td>\n",
              "      <td>118.000000</td>\n",
              "      <td>149.000000</td>\n",
              "      <td>0</td>\n",
              "      <td>hyp</td>\n",
              "      <td>126.000000</td>\n",
              "      <td>0</td>\n",
              "      <td>0.800000</td>\n",
              "      <td>up</td>\n",
              "      <td>3.000000</td>\n",
              "      <td>norm</td>\n",
              "      <td>sick</td>\n",
              "      <td>S1</td>\n",
              "    </tr>\n",
              "    <tr>\n",
              "      <th>301</th>\n",
              "      <td>74.000000</td>\n",
              "      <td>0</td>\n",
              "      <td>abnang</td>\n",
              "      <td>120.000000</td>\n",
              "      <td>269.000000</td>\n",
              "      <td>0</td>\n",
              "      <td>hyp</td>\n",
              "      <td>121.000000</td>\n",
              "      <td>1</td>\n",
              "      <td>0.200000</td>\n",
              "      <td>up</td>\n",
              "      <td>1.000000</td>\n",
              "      <td>norm</td>\n",
              "      <td>buff</td>\n",
              "      <td>H</td>\n",
              "    </tr>\n",
              "    <tr>\n",
              "      <th>302</th>\n",
              "      <td>54.000000</td>\n",
              "      <td>0</td>\n",
              "      <td>notang</td>\n",
              "      <td>160.000000</td>\n",
              "      <td>201.000000</td>\n",
              "      <td>0</td>\n",
              "      <td>norm</td>\n",
              "      <td>163.000000</td>\n",
              "      <td>0</td>\n",
              "      <td>0.000000</td>\n",
              "      <td>up</td>\n",
              "      <td>1.000000</td>\n",
              "      <td>norm</td>\n",
              "      <td>buff</td>\n",
              "      <td>H</td>\n",
              "    </tr>\n",
              "  </tbody>\n",
              "</table>\n",
              "<p>296 rows × 15 columns</p>\n",
              "</div>"
            ],
            "text/plain": [
              "          age  sex      cp   trestbps  ...       ca  thal is_healthy  class\n",
              "0   63.000000    1  angina 145.000000  ... 0.000000   fix       buff      H\n",
              "1   67.000000    1  asympt 160.000000  ... 3.000000  norm       sick     S2\n",
              "2   67.000000    1  asympt 120.000000  ... 2.000000   rev       sick     S1\n",
              "3   37.000000    1  notang 130.000000  ... 0.000000  norm       buff      H\n",
              "4   41.000000    0  abnang 130.000000  ... 0.000000  norm       buff      H\n",
              "..        ...  ...     ...        ...  ...      ...   ...        ...    ...\n",
              "298 48.000000    1  notang 124.000000  ... 2.000000  norm       buff      H\n",
              "299 57.000000    1  asympt 132.000000  ... 0.000000   rev       buff      H\n",
              "300 49.000000    1  notang 118.000000  ... 3.000000  norm       sick     S1\n",
              "301 74.000000    0  abnang 120.000000  ... 1.000000  norm       buff      H\n",
              "302 54.000000    0  notang 160.000000  ... 1.000000  norm       buff      H\n",
              "\n",
              "[296 rows x 15 columns]"
            ]
          },
          "metadata": {
            "tags": []
          },
          "execution_count": 19
        }
      ]
    },
    {
      "cell_type": "code",
      "metadata": {
        "colab": {
          "base_uri": "https://localhost:8080/",
          "height": 693
        },
        "id": "qPpEgdPIzFKi",
        "outputId": "1397a9f8-978b-4768-b607-07aa681a336d"
      },
      "source": [
        "corrmat = df.corr()\n",
        "fig = plt.figure(figsize = (12,12))\n",
        "sns.heatmap(corrmat,vmax = 1,square = True,annot = True,vmin = -1)\n",
        "plt.show()"
      ],
      "execution_count": null,
      "outputs": [
        {
          "output_type": "display_data",
          "data": {
            "image/png": "[encoded data removed]",
            "text/plain": [
              "<Figure size 864x864 with 2 Axes>"
            ]
          },
          "metadata": {
            "tags": [],
            "needs_background": "light"
          }
        }
      ]
    },
    {
      "cell_type": "code",
      "metadata": {
        "id": "HYtqFPkozFM1"
      },
      "source": [
        "#sns.pairplot(df);"
      ],
      "execution_count": null,
      "outputs": []
    },
    {
      "cell_type": "code",
      "metadata": {
        "id": "v53G22i9pjY6"
      },
      "source": [
        ""
      ],
      "execution_count": null,
      "outputs": []
    },
    {
      "cell_type": "code",
      "metadata": {
        "id": "IUhaXLt7pj-d"
      },
      "source": [
        ""
      ],
      "execution_count": null,
      "outputs": []
    },
    {
      "cell_type": "code",
      "metadata": {
        "id": "_5qK8wkllsrs"
      },
      "source": [
        "class_mapping = {label:idx for idx,label in enumerate(np.unique(df['class']))}\n",
        "df['class'] = df['class'].map(class_mapping)\n",
        "df['class'].value_counts()\n",
        "\n",
        "\n",
        "y = df['class']\n",
        "df = df.drop('class',axis=1)\n"
      ],
      "execution_count": null,
      "outputs": []
    },
    {
      "cell_type": "code",
      "metadata": {
        "id": "h7jXsVe01-OF"
      },
      "source": [
        "df = pd.get_dummies(df, drop_first=True)"
      ],
      "execution_count": null,
      "outputs": []
    },
    {
      "cell_type": "code",
      "metadata": {
        "colab": {
          "base_uri": "https://localhost:8080/"
        },
        "id": "6oo6lB6v2B-J",
        "outputId": "3a019166-8b80-472e-ba85-2353f90fbfab"
      },
      "source": [
        "df.columns"
      ],
      "execution_count": null,
      "outputs": [
        {
          "output_type": "execute_result",
          "data": {
            "text/plain": [
              "Index(['age', 'sex', 'trestbps', 'chol', 'fbs', 'thalach', 'exang', 'oldpeak',\n",
              "       'ca', 'cp_angina', 'cp_asympt', 'cp_notang', 'restecg_hyp',\n",
              "       'restecg_norm', 'slope_flat', 'slope_up', 'thal_norm', 'thal_rev',\n",
              "       'is_healthy_sick'],\n",
              "      dtype='object')"
            ]
          },
          "metadata": {
            "tags": []
          },
          "execution_count": 24
        }
      ]
    },
    {
      "cell_type": "code",
      "metadata": {
        "colab": {
          "base_uri": "https://localhost:8080/",
          "height": 439
        },
        "id": "tTL-xMOmZWtE",
        "outputId": "074c3317-9742-4251-9bf3-d4e7e01be7ca"
      },
      "source": [
        "df"
      ],
      "execution_count": null,
      "outputs": [
        {
          "output_type": "execute_result",
          "data": {
            "text/html": [
              "<div>\n",
              "<style scoped>\n",
              "    .dataframe tbody tr th:only-of-type {\n",
              "        vertical-align: middle;\n",
              "    }\n",
              "\n",
              "    .dataframe tbody tr th {\n",
              "        vertical-align: top;\n",
              "    }\n",
              "\n",
              "    .dataframe thead th {\n",
              "        text-align: right;\n",
              "    }\n",
              "</style>\n",
              "<table border=\"1\" class=\"dataframe\">\n",
              "  <thead>\n",
              "    <tr style=\"text-align: right;\">\n",
              "      <th></th>\n",
              "      <th>age</th>\n",
              "      <th>sex</th>\n",
              "      <th>trestbps</th>\n",
              "      <th>chol</th>\n",
              "      <th>fbs</th>\n",
              "      <th>thalach</th>\n",
              "      <th>exang</th>\n",
              "      <th>oldpeak</th>\n",
              "      <th>ca</th>\n",
              "      <th>cp_angina</th>\n",
              "      <th>cp_asympt</th>\n",
              "      <th>cp_notang</th>\n",
              "      <th>restecg_hyp</th>\n",
              "      <th>restecg_norm</th>\n",
              "      <th>slope_flat</th>\n",
              "      <th>slope_up</th>\n",
              "      <th>thal_norm</th>\n",
              "      <th>thal_rev</th>\n",
              "      <th>is_healthy_sick</th>\n",
              "    </tr>\n",
              "  </thead>\n",
              "  <tbody>\n",
              "    <tr>\n",
              "      <th>0</th>\n",
              "      <td>63.000000</td>\n",
              "      <td>1</td>\n",
              "      <td>145.000000</td>\n",
              "      <td>233.000000</td>\n",
              "      <td>1</td>\n",
              "      <td>150.000000</td>\n",
              "      <td>0</td>\n",
              "      <td>2.300000</td>\n",
              "      <td>0.000000</td>\n",
              "      <td>1</td>\n",
              "      <td>0</td>\n",
              "      <td>0</td>\n",
              "      <td>1</td>\n",
              "      <td>0</td>\n",
              "      <td>0</td>\n",
              "      <td>0</td>\n",
              "      <td>0</td>\n",
              "      <td>0</td>\n",
              "      <td>0</td>\n",
              "    </tr>\n",
              "    <tr>\n",
              "      <th>1</th>\n",
              "      <td>67.000000</td>\n",
              "      <td>1</td>\n",
              "      <td>160.000000</td>\n",
              "      <td>286.000000</td>\n",
              "      <td>0</td>\n",
              "      <td>108.000000</td>\n",
              "      <td>1</td>\n",
              "      <td>1.500000</td>\n",
              "      <td>3.000000</td>\n",
              "      <td>0</td>\n",
              "      <td>1</td>\n",
              "      <td>0</td>\n",
              "      <td>1</td>\n",
              "      <td>0</td>\n",
              "      <td>1</td>\n",
              "      <td>0</td>\n",
              "      <td>1</td>\n",
              "      <td>0</td>\n",
              "      <td>1</td>\n",
              "    </tr>\n",
              "    <tr>\n",
              "      <th>2</th>\n",
              "      <td>67.000000</td>\n",
              "      <td>1</td>\n",
              "      <td>120.000000</td>\n",
              "      <td>229.000000</td>\n",
              "      <td>0</td>\n",
              "      <td>129.000000</td>\n",
              "      <td>1</td>\n",
              "      <td>2.600000</td>\n",
              "      <td>2.000000</td>\n",
              "      <td>0</td>\n",
              "      <td>1</td>\n",
              "      <td>0</td>\n",
              "      <td>1</td>\n",
              "      <td>0</td>\n",
              "      <td>1</td>\n",
              "      <td>0</td>\n",
              "      <td>0</td>\n",
              "      <td>1</td>\n",
              "      <td>1</td>\n",
              "    </tr>\n",
              "    <tr>\n",
              "      <th>3</th>\n",
              "      <td>37.000000</td>\n",
              "      <td>1</td>\n",
              "      <td>130.000000</td>\n",
              "      <td>250.000000</td>\n",
              "      <td>0</td>\n",
              "      <td>187.000000</td>\n",
              "      <td>0</td>\n",
              "      <td>3.500000</td>\n",
              "      <td>0.000000</td>\n",
              "      <td>0</td>\n",
              "      <td>0</td>\n",
              "      <td>1</td>\n",
              "      <td>0</td>\n",
              "      <td>1</td>\n",
              "      <td>0</td>\n",
              "      <td>0</td>\n",
              "      <td>1</td>\n",
              "      <td>0</td>\n",
              "      <td>0</td>\n",
              "    </tr>\n",
              "    <tr>\n",
              "      <th>4</th>\n",
              "      <td>41.000000</td>\n",
              "      <td>0</td>\n",
              "      <td>130.000000</td>\n",
              "      <td>204.000000</td>\n",
              "      <td>0</td>\n",
              "      <td>172.000000</td>\n",
              "      <td>0</td>\n",
              "      <td>1.400000</td>\n",
              "      <td>0.000000</td>\n",
              "      <td>0</td>\n",
              "      <td>0</td>\n",
              "      <td>0</td>\n",
              "      <td>1</td>\n",
              "      <td>0</td>\n",
              "      <td>0</td>\n",
              "      <td>1</td>\n",
              "      <td>1</td>\n",
              "      <td>0</td>\n",
              "      <td>0</td>\n",
              "    </tr>\n",
              "    <tr>\n",
              "      <th>...</th>\n",
              "      <td>...</td>\n",
              "      <td>...</td>\n",
              "      <td>...</td>\n",
              "      <td>...</td>\n",
              "      <td>...</td>\n",
              "      <td>...</td>\n",
              "      <td>...</td>\n",
              "      <td>...</td>\n",
              "      <td>...</td>\n",
              "      <td>...</td>\n",
              "      <td>...</td>\n",
              "      <td>...</td>\n",
              "      <td>...</td>\n",
              "      <td>...</td>\n",
              "      <td>...</td>\n",
              "      <td>...</td>\n",
              "      <td>...</td>\n",
              "      <td>...</td>\n",
              "      <td>...</td>\n",
              "    </tr>\n",
              "    <tr>\n",
              "      <th>298</th>\n",
              "      <td>48.000000</td>\n",
              "      <td>1</td>\n",
              "      <td>124.000000</td>\n",
              "      <td>255.000000</td>\n",
              "      <td>1</td>\n",
              "      <td>175.000000</td>\n",
              "      <td>0</td>\n",
              "      <td>0.000000</td>\n",
              "      <td>2.000000</td>\n",
              "      <td>0</td>\n",
              "      <td>0</td>\n",
              "      <td>1</td>\n",
              "      <td>0</td>\n",
              "      <td>1</td>\n",
              "      <td>0</td>\n",
              "      <td>1</td>\n",
              "      <td>1</td>\n",
              "      <td>0</td>\n",
              "      <td>0</td>\n",
              "    </tr>\n",
              "    <tr>\n",
              "      <th>299</th>\n",
              "      <td>57.000000</td>\n",
              "      <td>1</td>\n",
              "      <td>132.000000</td>\n",
              "      <td>207.000000</td>\n",
              "      <td>0</td>\n",
              "      <td>168.000000</td>\n",
              "      <td>1</td>\n",
              "      <td>0.000000</td>\n",
              "      <td>0.000000</td>\n",
              "      <td>0</td>\n",
              "      <td>1</td>\n",
              "      <td>0</td>\n",
              "      <td>0</td>\n",
              "      <td>1</td>\n",
              "      <td>0</td>\n",
              "      <td>1</td>\n",
              "      <td>0</td>\n",
              "      <td>1</td>\n",
              "      <td>0</td>\n",
              "    </tr>\n",
              "    <tr>\n",
              "      <th>300</th>\n",
              "      <td>49.000000</td>\n",
              "      <td>1</td>\n",
              "      <td>118.000000</td>\n",
              "      <td>149.000000</td>\n",
              "      <td>0</td>\n",
              "      <td>126.000000</td>\n",
              "      <td>0</td>\n",
              "      <td>0.800000</td>\n",
              "      <td>3.000000</td>\n",
              "      <td>0</td>\n",
              "      <td>0</td>\n",
              "      <td>1</td>\n",
              "      <td>1</td>\n",
              "      <td>0</td>\n",
              "      <td>0</td>\n",
              "      <td>1</td>\n",
              "      <td>1</td>\n",
              "      <td>0</td>\n",
              "      <td>1</td>\n",
              "    </tr>\n",
              "    <tr>\n",
              "      <th>301</th>\n",
              "      <td>74.000000</td>\n",
              "      <td>0</td>\n",
              "      <td>120.000000</td>\n",
              "      <td>269.000000</td>\n",
              "      <td>0</td>\n",
              "      <td>121.000000</td>\n",
              "      <td>1</td>\n",
              "      <td>0.200000</td>\n",
              "      <td>1.000000</td>\n",
              "      <td>0</td>\n",
              "      <td>0</td>\n",
              "      <td>0</td>\n",
              "      <td>1</td>\n",
              "      <td>0</td>\n",
              "      <td>0</td>\n",
              "      <td>1</td>\n",
              "      <td>1</td>\n",
              "      <td>0</td>\n",
              "      <td>0</td>\n",
              "    </tr>\n",
              "    <tr>\n",
              "      <th>302</th>\n",
              "      <td>54.000000</td>\n",
              "      <td>0</td>\n",
              "      <td>160.000000</td>\n",
              "      <td>201.000000</td>\n",
              "      <td>0</td>\n",
              "      <td>163.000000</td>\n",
              "      <td>0</td>\n",
              "      <td>0.000000</td>\n",
              "      <td>1.000000</td>\n",
              "      <td>0</td>\n",
              "      <td>0</td>\n",
              "      <td>1</td>\n",
              "      <td>0</td>\n",
              "      <td>1</td>\n",
              "      <td>0</td>\n",
              "      <td>1</td>\n",
              "      <td>1</td>\n",
              "      <td>0</td>\n",
              "      <td>0</td>\n",
              "    </tr>\n",
              "  </tbody>\n",
              "</table>\n",
              "<p>296 rows × 19 columns</p>\n",
              "</div>"
            ],
            "text/plain": [
              "          age  sex   trestbps  ...  thal_norm  thal_rev  is_healthy_sick\n",
              "0   63.000000    1 145.000000  ...          0         0                0\n",
              "1   67.000000    1 160.000000  ...          1         0                1\n",
              "2   67.000000    1 120.000000  ...          0         1                1\n",
              "3   37.000000    1 130.000000  ...          1         0                0\n",
              "4   41.000000    0 130.000000  ...          1         0                0\n",
              "..        ...  ...        ...  ...        ...       ...              ...\n",
              "298 48.000000    1 124.000000  ...          1         0                0\n",
              "299 57.000000    1 132.000000  ...          0         1                0\n",
              "300 49.000000    1 118.000000  ...          1         0                1\n",
              "301 74.000000    0 120.000000  ...          1         0                0\n",
              "302 54.000000    0 160.000000  ...          1         0                0\n",
              "\n",
              "[296 rows x 19 columns]"
            ]
          },
          "metadata": {
            "tags": []
          },
          "execution_count": 25
        }
      ]
    },
    {
      "cell_type": "code",
      "metadata": {
        "colab": {
          "base_uri": "https://localhost:8080/"
        },
        "id": "HI1NItLbJ50P",
        "outputId": "b7d53c4c-cc97-4f65-b5b6-d098c0911cce"
      },
      "source": [
        "y"
      ],
      "execution_count": null,
      "outputs": [
        {
          "output_type": "execute_result",
          "data": {
            "text/plain": [
              "0      0\n",
              "1      2\n",
              "2      1\n",
              "3      0\n",
              "4      0\n",
              "      ..\n",
              "298    0\n",
              "299    0\n",
              "300    1\n",
              "301    0\n",
              "302    0\n",
              "Name: class, Length: 296, dtype: int64"
            ]
          },
          "metadata": {
            "tags": []
          },
          "execution_count": 26
        }
      ]
    },
    {
      "cell_type": "code",
      "metadata": {
        "colab": {
          "base_uri": "https://localhost:8080/"
        },
        "id": "WmrLhu1x2CDG",
        "outputId": "ae06fd5f-9543-499d-87d7-40d0205deb41"
      },
      "source": [
        "y.value_counts()"
      ],
      "execution_count": null,
      "outputs": [
        {
          "output_type": "execute_result",
          "data": {
            "text/plain": [
              "0    160\n",
              "1     53\n",
              "3     35\n",
              "2     35\n",
              "4     13\n",
              "Name: class, dtype: int64"
            ]
          },
          "metadata": {
            "tags": []
          },
          "execution_count": 27
        }
      ]
    },
    {
      "cell_type": "code",
      "metadata": {
        "id": "g8ztSe8j2CFG",
        "colab": {
          "base_uri": "https://localhost:8080/"
        },
        "outputId": "45ab5c97-dc33-4464-9e43-17c208040ba1"
      },
      "source": [
        "from imblearn.over_sampling import SMOTE\n",
        "sm = SMOTE(random_state=42)\n",
        "X_res_OS , Y_res_OS = sm.fit_resample(df,y)\n",
        "pd.Series(Y_res_OS).value_counts()\n",
        "\n",
        "X_res_OS = pd.DataFrame(X_res_OS,columns=df.columns)\n",
        "Y_res_OS = pd.DataFrame(Y_res_OS)\n",
        "\n",
        "df = X_res_OS\n",
        "y = Y_res_OS\n"
      ],
      "execution_count": null,
      "outputs": [
        {
          "output_type": "stream",
          "text": [
            "/usr/local/lib/python3.7/dist-packages/sklearn/externals/six.py:31: FutureWarning: The module is deprecated in version 0.21 and will be removed in version 0.23 since we've dropped support for Python 2.7. Please rely on the official version of six (https://pypi.org/project/six/).\n",
            "  \"(https://pypi.org/project/six/).\", FutureWarning)\n",
            "/usr/local/lib/python3.7/dist-packages/sklearn/utils/deprecation.py:144: FutureWarning: The sklearn.neighbors.base module is  deprecated in version 0.22 and will be removed in version 0.24. The corresponding classes / functions should instead be imported from sklearn.neighbors. Anything that cannot be imported from sklearn.neighbors is now part of the private API.\n",
            "  warnings.warn(message, FutureWarning)\n",
            "/usr/local/lib/python3.7/dist-packages/sklearn/utils/deprecation.py:87: FutureWarning: Function safe_indexing is deprecated; safe_indexing is deprecated in version 0.22 and will be removed in version 0.24.\n",
            "  warnings.warn(msg, category=FutureWarning)\n",
            "/usr/local/lib/python3.7/dist-packages/sklearn/utils/deprecation.py:87: FutureWarning: Function safe_indexing is deprecated; safe_indexing is deprecated in version 0.22 and will be removed in version 0.24.\n",
            "  warnings.warn(msg, category=FutureWarning)\n",
            "/usr/local/lib/python3.7/dist-packages/sklearn/utils/deprecation.py:87: FutureWarning: Function safe_indexing is deprecated; safe_indexing is deprecated in version 0.22 and will be removed in version 0.24.\n",
            "  warnings.warn(msg, category=FutureWarning)\n",
            "/usr/local/lib/python3.7/dist-packages/sklearn/utils/deprecation.py:87: FutureWarning: Function safe_indexing is deprecated; safe_indexing is deprecated in version 0.22 and will be removed in version 0.24.\n",
            "  warnings.warn(msg, category=FutureWarning)\n"
          ],
          "name": "stderr"
        }
      ]
    },
    {
      "cell_type": "code",
      "metadata": {
        "colab": {
          "base_uri": "https://localhost:8080/"
        },
        "id": "AE9Zgao2iJ_l",
        "outputId": "00258097-bf36-4b4c-dd42-863daac52b9e"
      },
      "source": [
        "y.value_counts()"
      ],
      "execution_count": null,
      "outputs": [
        {
          "output_type": "execute_result",
          "data": {
            "text/plain": [
              "4    160\n",
              "3    160\n",
              "2    160\n",
              "1    160\n",
              "0    160\n",
              "dtype: int64"
            ]
          },
          "metadata": {
            "tags": []
          },
          "execution_count": 29
        }
      ]
    },
    {
      "cell_type": "code",
      "metadata": {
        "colab": {
          "base_uri": "https://localhost:8080/"
        },
        "id": "I-wiktsLDDDp",
        "outputId": "b1c9a80e-ce7e-4a8a-9698-c31527eae105"
      },
      "source": [
        "len(df.columns)"
      ],
      "execution_count": null,
      "outputs": [
        {
          "output_type": "execute_result",
          "data": {
            "text/plain": [
              "19"
            ]
          },
          "metadata": {
            "tags": []
          },
          "execution_count": 30
        }
      ]
    },
    {
      "cell_type": "code",
      "metadata": {
        "id": "1YsEmgWCEp1r"
      },
      "source": [
        "X_train, X_test, y_train, y_test = train_test_split(df, y, test_size=0.1, random_state=0)"
      ],
      "execution_count": null,
      "outputs": []
    },
    {
      "cell_type": "code",
      "metadata": {
        "id": "CqtevTnsFYHO"
      },
      "source": [
        "X_train=(X_train-np.min(X_train))/(np.max(X_train)-np.min(X_train)).values\n",
        "X_test=(X_test-np.min(X_test))/(np.max(X_test)-np.min(X_test)).values"
      ],
      "execution_count": null,
      "outputs": []
    },
    {
      "cell_type": "code",
      "metadata": {
        "id": "qaS68850FHpz"
      },
      "source": [
        "n_estimators = [int(x) for x in np.linspace(start = 10, stop = 80, num = 10)]\n",
        "# Number of features to consider at every split\n",
        "max_features = ['auto', 'sqrt']\n",
        "# Maximum number of levels in tree\n",
        "max_depth = [2,4]\n",
        "# Minimum number of samples required to split a node\n",
        "min_samples_split = [2, 5]\n",
        "# Minimum number of samples required at each leaf node\n",
        "min_samples_leaf = [1, 2]\n",
        "# Method of selecting samples for training each tree\n",
        "bootstrap = [True, False]"
      ],
      "execution_count": null,
      "outputs": []
    },
    {
      "cell_type": "code",
      "metadata": {
        "id": "PnhI4_-01-Sv"
      },
      "source": [
        "from sklearn.metrics import make_scorer\n",
        "from sklearn.metrics import accuracy_score\n",
        "param_grid = {'n_estimators': n_estimators,\n",
        "               'max_features': max_features,\n",
        "               'max_depth': max_depth,\n",
        "               'min_samples_split': min_samples_split,\n",
        "               'min_samples_leaf': min_samples_leaf,\n",
        "               'bootstrap': bootstrap,\n",
        "              }\n",
        "scoring = {'AUC': 'roc_auc', 'Accuracy': make_scorer(accuracy_score)}\n"
      ],
      "execution_count": null,
      "outputs": []
    },
    {
      "cell_type": "code",
      "metadata": {
        "id": "mwzcZSWV1-U6"
      },
      "source": [
        "rf_Model = RandomForestClassifier()"
      ],
      "execution_count": null,
      "outputs": []
    },
    {
      "cell_type": "code",
      "metadata": {
        "id": "eNZqbKEn1-XH"
      },
      "source": [
        "from sklearn.model_selection import GridSearchCV\n",
        "rf_Grid = GridSearchCV(estimator = rf_Model, param_grid = param_grid, cv = 10, verbose=2, n_jobs = 4, refit = True)"
      ],
      "execution_count": null,
      "outputs": []
    },
    {
      "cell_type": "code",
      "metadata": {
        "id": "z4vqzXMf1-Zk",
        "colab": {
          "base_uri": "https://localhost:8080/"
        },
        "outputId": "95ecd137-03ca-4433-d8df-bd77d09f8ccb"
      },
      "source": [
        "rf_Grid.fit(X_train, y_train)"
      ],
      "execution_count": null,
      "outputs": [
        {
          "output_type": "stream",
          "text": [
            "Fitting 10 folds for each of 320 candidates, totalling 3200 fits\n"
          ],
          "name": "stdout"
        },
        {
          "output_type": "stream",
          "text": [
            "[Parallel(n_jobs=4)]: Using backend LokyBackend with 4 concurrent workers.\n",
            "[Parallel(n_jobs=4)]: Done  58 tasks      | elapsed:    3.1s\n",
            "[Parallel(n_jobs=4)]: Done 300 tasks      | elapsed:   21.8s\n",
            "[Parallel(n_jobs=4)]: Done 706 tasks      | elapsed:   50.8s\n",
            "[Parallel(n_jobs=4)]: Done 1272 tasks      | elapsed:  1.6min\n",
            "[Parallel(n_jobs=4)]: Done 2002 tasks      | elapsed:  2.4min\n",
            "[Parallel(n_jobs=4)]: Done 2892 tasks      | elapsed:  3.4min\n",
            "[Parallel(n_jobs=4)]: Done 3200 out of 3200 | elapsed:  3.7min finished\n",
            "/usr/local/lib/python3.7/dist-packages/sklearn/model_selection/_search.py:739: DataConversionWarning: A column-vector y was passed when a 1d array was expected. Please change the shape of y to (n_samples,), for example using ravel().\n",
            "  self.best_estimator_.fit(X, y, **fit_params)\n"
          ],
          "name": "stderr"
        },
        {
          "output_type": "execute_result",
          "data": {
            "text/plain": [
              "GridSearchCV(cv=10, error_score=nan,\n",
              "             estimator=RandomForestClassifier(bootstrap=True, ccp_alpha=0.0,\n",
              "                                              class_weight=None,\n",
              "                                              criterion='gini', max_depth=None,\n",
              "                                              max_features='auto',\n",
              "                                              max_leaf_nodes=None,\n",
              "                                              max_samples=None,\n",
              "                                              min_impurity_decrease=0.0,\n",
              "                                              min_impurity_split=None,\n",
              "                                              min_samples_leaf=1,\n",
              "                                              min_samples_split=2,\n",
              "                                              min_weight_fraction_leaf=0.0,\n",
              "                                              n_estimators=100, n_jobs=None,\n",
              "                                              oob_score=False,\n",
              "                                              random_state=None, verbose=0,\n",
              "                                              warm_start=False),\n",
              "             iid='deprecated', n_jobs=4,\n",
              "             param_grid={'bootstrap': [True, False], 'max_depth': [2, 4],\n",
              "                         'max_features': ['auto', 'sqrt'],\n",
              "                         'min_samples_leaf': [1, 2],\n",
              "                         'min_samples_split': [2, 5],\n",
              "                         'n_estimators': [10, 17, 25, 33, 41, 48, 56, 64, 72,\n",
              "                                          80]},\n",
              "             pre_dispatch='2*n_jobs', refit=True, return_train_score=False,\n",
              "             scoring=None, verbose=2)"
            ]
          },
          "metadata": {
            "tags": []
          },
          "execution_count": 44
        }
      ]
    },
    {
      "cell_type": "code",
      "metadata": {
        "id": "arJf2cU-1-bI",
        "colab": {
          "base_uri": "https://localhost:8080/"
        },
        "outputId": "5a9758ed-264a-4adb-8d0e-093cc9e87ae5"
      },
      "source": [
        "rf_Grid.best_params_\n"
      ],
      "execution_count": null,
      "outputs": [
        {
          "output_type": "execute_result",
          "data": {
            "text/plain": [
              "{'bootstrap': True,\n",
              " 'max_depth': 4,\n",
              " 'max_features': 'sqrt',\n",
              " 'min_samples_leaf': 2,\n",
              " 'min_samples_split': 5,\n",
              " 'n_estimators': 64}"
            ]
          },
          "metadata": {
            "tags": []
          },
          "execution_count": 45
        }
      ]
    },
    {
      "cell_type": "code",
      "metadata": {
        "id": "QfgvCP4DWdF1",
        "colab": {
          "base_uri": "https://localhost:8080/"
        },
        "outputId": "2465737e-e864-4d79-978a-1baaceff68fe"
      },
      "source": [
        "print (f'Train Accuracy - : {rf_Grid.score(X_train,y_train):.3f}')\n",
        "print (f'Test Accuracy - : {rf_Grid.score(X_test,y_test):.3f}')\n"
      ],
      "execution_count": null,
      "outputs": [
        {
          "output_type": "stream",
          "text": [
            "Train Accuracy - : 0.808\n",
            "Test Accuracy - : 0.800\n"
          ],
          "name": "stdout"
        }
      ]
    },
    {
      "cell_type": "code",
      "metadata": {
        "id": "1_q-VmbXW5eD"
      },
      "source": [
        "y_pr=rf_Grid.predict(X_test)"
      ],
      "execution_count": null,
      "outputs": []
    },
    {
      "cell_type": "code",
      "metadata": {
        "colab": {
          "base_uri": "https://localhost:8080/"
        },
        "id": "Y95UT5tpk6MM",
        "outputId": "703959c7-104d-448b-a41a-3ccecb341015"
      },
      "source": [
        "from sklearn.metrics import classification_report\n",
        "\n",
        "y_pr\n",
        "target_names = ['H', 'S1', 'S2', 'S3', 'S4']\n",
        "print(classification_report(y_test, y_pr, target_names=target_names))"
      ],
      "execution_count": null,
      "outputs": [
        {
          "output_type": "stream",
          "text": [
            "              precision    recall  f1-score   support\n",
            "\n",
            "           H       1.00      1.00      1.00        17\n",
            "          S1       0.75      0.75      0.75         8\n",
            "          S2       0.84      0.76      0.80        21\n",
            "          S3       0.53      0.64      0.58        14\n",
            "          S4       0.84      0.80      0.82        20\n",
            "\n",
            "    accuracy                           0.80        80\n",
            "   macro avg       0.79      0.79      0.79        80\n",
            "weighted avg       0.81      0.80      0.80        80\n",
            "\n"
          ],
          "name": "stdout"
        }
      ]
    },
    {
      "cell_type": "code",
      "metadata": {
        "colab": {
          "base_uri": "https://localhost:8080/"
        },
        "id": "DJTvBEYgoLwv",
        "outputId": "decbb83f-328f-4eda-f17d-d8beafee49d7"
      },
      "source": [
        "from sklearn.metrics import roc_auc_score\n",
        "roc_auc_score(y_test, rf_Grid.predict_proba(X_test), multi_class='ovr')"
      ],
      "execution_count": null,
      "outputs": [
        {
          "output_type": "execute_result",
          "data": {
            "text/plain": [
              "0.932170203854526"
            ]
          },
          "metadata": {
            "tags": []
          },
          "execution_count": 49
        }
      ]
    },
    {
      "cell_type": "code",
      "metadata": {
        "id": "VELglSLspIKa"
      },
      "source": [
        ""
      ],
      "execution_count": null,
      "outputs": []
    }
  ]
}